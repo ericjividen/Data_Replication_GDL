{
 "cells": [
  {
   "cell_type": "markdown",
   "metadata": {},
   "source": [
    "Mixture_Inference.py"
   ]
  },
  {
   "cell_type": "code",
   "execution_count": null,
   "metadata": {},
   "outputs": [],
   "source": [
    "# coding:utf-8\n",
    "\n",
    "import tensorflow as tf\n",
    "\n",
    "# 定义神经网络相关参数\n",
    "INPUT_NODE = 25711\n",
    "OUTPUT_NODE = 2\n",
    "LAYER1_NODE = 256\n",
    "LAYER2_NODE = 256\n",
    "LAYER3_NODE = 256\n",
    "\n",
    "\n",
    "\n",
    "# 通过tf.get_variable 函数来获取变量\n",
    "# 在训练神经网络时会创建这些变量\n",
    "# 在测试时会通过保存的模型，加载这些变量的取值\n",
    "# 可以在变量加载时将“滑动平均变量”重命名，所以可以在训练时使用变量自身，在测试时使用变量的滑动平均值\n",
    "# 在这个函数中也会将变量的正则化损失加入损失集合\n",
    "def get_weight_variable(shape, regularizer):\n",
    "\t# 对权重的定义，shape表示维度\n",
    "\t# 将变量初始化为满足正太分布的随机值，但如果随机出来的值偏离平均值超过2个标准差，那么这个数将会被重新随机\n",
    "\tweights = tf.get_variable(\"weights\", shape, initializer=tf.truncated_normal_initializer(stddev=0.1))\n",
    "\n",
    "\t# 将当前变量的正则损失加入名字为losses的集合\n",
    "\tif regularizer != None:\n",
    "\t\ttf.add_to_collection('losses', regularizer(weights))\n",
    "\n",
    "\treturn weights\n",
    "\n",
    "\n",
    "# 定义神经网络的前向传播过程\n",
    "def inference(input_tensor, regularizer):\n",
    "\t# 声明第一层神经网络的变量并完成前向传播的过程\n",
    "\twith tf.variable_scope('layer1'):\n",
    "\t\tw1 = get_weight_variable([INPUT_NODE, LAYER1_NODE], regularizer)\n",
    "\t\tb1 = tf.get_variable(\"biases\", [LAYER1_NODE], initializer=tf.constant_initializer(0.0))\n",
    "\t\tlayer1 = tf.nn.relu(tf.matmul(input_tensor, w1) + b1)\n",
    "\n",
    "\t# 声明第二层神经网络的变量并完成前向传播的过程\n",
    "\twith tf.variable_scope('layer2'):\n",
    "\t\tw2 = get_weight_variable([LAYER1_NODE, LAYER2_NODE], regularizer)\n",
    "\t\tb2 = tf.get_variable(\"biases\", [LAYER2_NODE], initializer=tf.constant_initializer(0.0))\n",
    "\t\tlayer2 = tf.nn.relu(tf.matmul(layer1, w2) + b2)\n",
    "\n",
    "\t# 声明第三层神经网络的变量并完成前向传播的过程\n",
    "\twith tf.variable_scope('layer3'):\n",
    "\t\tw3 = get_weight_variable([LAYER2_NODE, LAYER3_NODE], regularizer)\n",
    "\t\tb3 = tf.get_variable(\"biases\", [LAYER3_NODE], initializer=tf.constant_initializer(0.0))\n",
    "\t\tlayer3 = tf.nn.relu(tf.matmul(layer2, w3) + b3)\n",
    "\n",
    "\t# 声明第四层神经网络的变量并完成前向传播的过程\n",
    "\twith tf.variable_scope('layer4'):\n",
    "\t\tw4 = get_weight_variable([LAYER3_NODE, OUTPUT_NODE], regularizer)\n",
    "\t\tb4 = tf.get_variable(\"biases\", [OUTPUT_NODE], initializer=tf.constant_initializer(0.0))\n",
    "\t\tlayer4 = tf.matmul(layer3, w4) + b4\n",
    "\n",
    "\treturn layer4"
   ]
  }
 ],
 "metadata": {
  "kernelspec": {
   "display_name": "Python 3",
   "language": "python",
   "name": "python3"
  },
  "language_info": {
   "codemirror_mode": {
    "name": "ipython",
    "version": 3
   },
   "file_extension": ".py",
   "mimetype": "text/x-python",
   "name": "python",
   "nbconvert_exporter": "python",
   "pygments_lexer": "ipython3",
   "version": "3.7.4"
  }
 },
 "nbformat": 4,
 "nbformat_minor": 2
}
