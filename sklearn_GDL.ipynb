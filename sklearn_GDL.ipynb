{
 "cells": [
  {
   "cell_type": "code",
   "execution_count": 1,
   "metadata": {},
   "outputs": [],
   "source": [
    "# Import our dependencies\n",
    "import pandas as pd\n",
    "import numpy as np\n",
    "from matplotlib import pyplot as plt\n",
    "from sklearn.metrics import accuracy_score\n",
    "%matplotlib inline "
   ]
  },
  {
   "cell_type": "markdown",
   "metadata": {},
   "source": [
    "### Prepare Training and testing data matrix"
   ]
  },
  {
   "cell_type": "code",
   "execution_count": 2,
   "metadata": {},
   "outputs": [
    {
     "data": {
      "text/plain": [
       "((1328, 2), (1328,), (331, 2), (331,))"
      ]
     },
     "execution_count": 2,
     "metadata": {},
     "output_type": "execute_result"
    }
   ],
   "source": [
    "## Read in input file as data frame\n",
    "train_df = pd.read_csv(\"C:\\\\Users\\\\Eric\\\\Desktop\\\\Final_project_code_data\\\\10000-1-vcf\\\\10000-1-vcf\\\\part1\\\\train.Matrix\", header=None, sep=\"\\t\" )\n",
    "test_df = pd.read_csv(\"C:\\\\Users\\\\Eric\\\\Desktop\\\\Final_project_code_data\\\\10000-1-vcf\\\\10000-1-vcf\\\\part1\\\\test.Matrix\", header=None, sep=\"\\t\")\n",
    "\n",
    "## The second column from the tab-delimited .Matrix file is the class, 1,0 means sick, 0,1 means not sick\n",
    "## Extract the class values, map them 1,0=>1, 0,1=>0, and save them as the y_train and y_test matrix\n",
    "y_train = train_df.iloc[:,1].str.replace('1,0', '1').replace('0,1', 0).astype('int').to_numpy()\n",
    "y_test = test_df.iloc[:,1].str.replace('1,0', '1').replace('0,1', 0).astype('int').to_numpy()\n",
    "\n",
    "## Record dimensions of train and test\n",
    "train_dim = train_df.shape\n",
    "test_dim = test_df.shape\n",
    "train_dim, y_train.shape, test_dim, y_test.shape"
   ]
  },
  {
   "cell_type": "code",
   "execution_count": 4,
   "metadata": {},
   "outputs": [
    {
     "data": {
      "text/plain": [
       "10000"
      ]
     },
     "execution_count": 4,
     "metadata": {},
     "output_type": "execute_result"
    }
   ],
   "source": [
    "## Get number of features\n",
    "num_feats = len(train_df.iloc[0,0].split(','))\n",
    "num_feats"
   ]
  },
  {
   "cell_type": "code",
   "execution_count": 5,
   "metadata": {},
   "outputs": [
    {
     "data": {
      "text/plain": [
       "((1328, 10000), (331, 10000))"
      ]
     },
     "execution_count": 5,
     "metadata": {},
     "output_type": "execute_result"
    }
   ],
   "source": [
    "## Convert comma separated feature str to individual features and save them in X matrix\n",
    "X_train = np.zeros(shape=[train_dim[0], num_feats ])\n",
    "for i in range(len(train_df)):\n",
    "    X_train[i] = train_df.iloc[i,0].split(',')\n",
    "    \n",
    "X_test = np.zeros(shape= [test_dim[0], num_feats ])\n",
    "for i in range(len(test_df)):\n",
    "    X_test[i] = test_df.iloc[i,0].split(',')\n",
    "    \n",
    "X_train.shape, X_test.shape"
   ]
  },
  {
   "cell_type": "code",
   "execution_count": 7,
   "metadata": {},
   "outputs": [
    {
     "data": {
      "text/html": [
       "<div>\n",
       "<style scoped>\n",
       "    .dataframe tbody tr th:only-of-type {\n",
       "        vertical-align: middle;\n",
       "    }\n",
       "\n",
       "    .dataframe tbody tr th {\n",
       "        vertical-align: top;\n",
       "    }\n",
       "\n",
       "    .dataframe thead th {\n",
       "        text-align: right;\n",
       "    }\n",
       "</style>\n",
       "<table border=\"1\" class=\"dataframe\">\n",
       "  <thead>\n",
       "    <tr style=\"text-align: right;\">\n",
       "      <th></th>\n",
       "      <th>x</th>\n",
       "      <th>y</th>\n",
       "    </tr>\n",
       "  </thead>\n",
       "  <tbody>\n",
       "    <tr>\n",
       "      <td>0</td>\n",
       "      <td>1,0,1,0</td>\n",
       "      <td>1,0</td>\n",
       "    </tr>\n",
       "    <tr>\n",
       "      <td>1</td>\n",
       "      <td>0,0,0,1</td>\n",
       "      <td>0,1</td>\n",
       "    </tr>\n",
       "  </tbody>\n",
       "</table>\n",
       "</div>"
      ],
      "text/plain": [
       "         x    y\n",
       "0  1,0,1,0  1,0\n",
       "1  0,0,0,1  0,1"
      ]
     },
     "execution_count": 7,
     "metadata": {},
     "output_type": "execute_result"
    }
   ],
   "source": [
    "x_demo_df= pd.DataFrame({'x':['1,0,1,0', '0,0,0,1'], 'y':['1,0', '0,1']})\n",
    "x_demo_df"
   ]
  },
  {
   "cell_type": "code",
   "execution_count": 13,
   "metadata": {},
   "outputs": [
    {
     "data": {
      "text/plain": [
       "array([[0., 0., 0., 0.],\n",
       "       [0., 0., 0., 0.]])"
      ]
     },
     "execution_count": 13,
     "metadata": {},
     "output_type": "execute_result"
    }
   ],
   "source": [
    "X_demo = np.zeros(shape=[2, 4])\n",
    "X_demo"
   ]
  },
  {
   "cell_type": "code",
   "execution_count": 16,
   "metadata": {},
   "outputs": [
    {
     "data": {
      "text/plain": [
       "array([[1., 0., 1., 0.],\n",
       "       [0., 0., 0., 1.]])"
      ]
     },
     "execution_count": 16,
     "metadata": {},
     "output_type": "execute_result"
    }
   ],
   "source": [
    "for i in range(len( x_demo_df)):\n",
    "    X_demo[i] = x_demo_df.iloc[i, 0].split(',')\n",
    "X_demo"
   ]
  },
  {
   "cell_type": "code",
   "execution_count": 10,
   "metadata": {},
   "outputs": [
    {
     "name": "stdout",
     "output_type": "stream",
     "text": [
      "1,0,1,0\n",
      "0,0,0,1\n"
     ]
    }
   ],
   "source": [
    "for i in range(len( x_demo_df)):\n",
    "    print(x_demo_df.iloc[i, 0])\n"
   ]
  },
  {
   "cell_type": "markdown",
   "metadata": {},
   "source": [
    "## SVM Classification"
   ]
  },
  {
   "cell_type": "code",
   "execution_count": 6,
   "metadata": {},
   "outputs": [
    {
     "name": "stdout",
     "output_type": "stream",
     "text": [
      " SVM model accuracy: 0.861\n"
     ]
    }
   ],
   "source": [
    "from sklearn.svm import SVC\n",
    "# Create the SVM model\n",
    "svm = SVC(kernel='linear')\n",
    "\n",
    "# Train the model\n",
    "svm.fit(X_train, y_train)\n",
    "\n",
    "# Evaluate the model\n",
    "y_pred = svm.predict(X_test)\n",
    "print(f\" SVM model accuracy: {accuracy_score(y_test,y_pred):.3f}\")"
   ]
  },
  {
   "cell_type": "markdown",
   "metadata": {},
   "source": [
    "## RandomForest Classification"
   ]
  },
  {
   "cell_type": "code",
   "execution_count": 8,
   "metadata": {},
   "outputs": [
    {
     "name": "stdout",
     "output_type": "stream",
     "text": [
      " RF model accuracy(n_estimators=10): 0.861\n",
      " RF model accuracy(n_estimators=100): 0.864\n",
      " RF model accuracy(n_estimators=500): 0.876\n",
      " RF model accuracy(n_estimators=1000): 0.867\n"
     ]
    }
   ],
   "source": [
    "from sklearn.ensemble import RandomForestClassifier\n",
    "# Create RF model\n",
    "n_estimators = [10, 100, 500, 1000]\n",
    "for n in n_estimators:\n",
    "    clf = RandomForestClassifier(n_estimators=n, random_state=0)\n",
    "\n",
    "    # Train the model\n",
    "    clf.fit(X_train, y_train)\n",
    "\n",
    "    # Evaluate the model\n",
    "    y_pred = clf.predict(X_test)\n",
    "    print(f\" RF model accuracy(n_estimators={n}): {accuracy_score(y_test,y_pred):.3f}\")"
   ]
  },
  {
   "cell_type": "markdown",
   "metadata": {},
   "source": [
    "## K-Nearest Neighbor (Knn) Classification"
   ]
  },
  {
   "cell_type": "code",
   "execution_count": 10,
   "metadata": {},
   "outputs": [
    {
     "name": "stdout",
     "output_type": "stream",
     "text": [
      " KNN model accuracy using k=1, weights=uniform: 0.553\n",
      " KNN model accuracy using k=1, weights=distance: 0.553\n",
      " KNN model accuracy using k=2, weights=uniform: 0.616\n",
      " KNN model accuracy using k=2, weights=distance: 0.598\n",
      " KNN model accuracy using k=3, weights=uniform: 0.474\n",
      " KNN model accuracy using k=3, weights=distance: 0.474\n",
      " KNN model accuracy using k=4, weights=uniform: 0.523\n",
      " KNN model accuracy using k=4, weights=distance: 0.505\n",
      " KNN model accuracy using k=5, weights=uniform: 0.462\n",
      " KNN model accuracy using k=5, weights=distance: 0.462\n",
      " KNN model accuracy using k=6, weights=uniform: 0.480\n",
      " KNN model accuracy using k=6, weights=distance: 0.474\n",
      " KNN model accuracy using k=7, weights=uniform: 0.456\n",
      " KNN model accuracy using k=7, weights=distance: 0.459\n",
      " KNN model accuracy using k=8, weights=uniform: 0.468\n",
      " KNN model accuracy using k=8, weights=distance: 0.462\n",
      " KNN model accuracy using k=9, weights=uniform: 0.423\n",
      " KNN model accuracy using k=9, weights=distance: 0.423\n",
      " KNN model accuracy using k=10, weights=uniform: 0.423\n",
      " KNN model accuracy using k=10, weights=distance: 0.423\n"
     ]
    }
   ],
   "source": [
    "from sklearn.neighbors import KNeighborsClassifier as knn\n",
    "# Create knn model\n",
    "\n",
    "# Experiment with different k and two type of weights\n",
    "for k in range(1, 11):\n",
    "    for weights in ['uniform', 'distance']:\n",
    "        clf = knn(k, weights=weights)\n",
    "        ## Train\n",
    "        clf.fit(X_train, y_train)\n",
    "        ## Evaluate\n",
    "        y_pred = clf.predict(X_test)\n",
    "        print(f\" KNN model accuracy using k={k}, weights={weights}: {accuracy_score(y_test,y_pred):.3f}\")\n",
    "    "
   ]
  },
  {
   "cell_type": "markdown",
   "metadata": {},
   "source": [
    "## Gradient Boost Classifier"
   ]
  },
  {
   "cell_type": "code",
   "execution_count": 12,
   "metadata": {},
   "outputs": [
    {
     "name": "stdout",
     "output_type": "stream",
     "text": [
      " GBM model accuracy (n_estimators=10, learning rate=0.01): 0.647\n",
      " GBM model accuracy (n_estimators=20, learning rate=0.01): 0.647\n",
      " GBM model accuracy (n_estimators=50, learning rate=0.01): 0.647\n",
      " GBM model accuracy (n_estimators=100, learning rate=0.01): 0.647\n",
      " GBM model accuracy (n_estimators=500, learning rate=0.01): 0.647\n",
      " GBM model accuracy (n_estimators=10, learning rate=0.03): 0.647\n",
      " GBM model accuracy (n_estimators=20, learning rate=0.03): 0.647\n",
      " GBM model accuracy (n_estimators=50, learning rate=0.03): 0.647\n",
      " GBM model accuracy (n_estimators=100, learning rate=0.03): 0.647\n",
      " GBM model accuracy (n_estimators=500, learning rate=0.03): 0.647\n",
      " GBM model accuracy (n_estimators=10, learning rate=0.05): 0.647\n",
      " GBM model accuracy (n_estimators=20, learning rate=0.05): 0.647\n",
      " GBM model accuracy (n_estimators=50, learning rate=0.05): 0.647\n",
      " GBM model accuracy (n_estimators=100, learning rate=0.05): 0.647\n",
      " GBM model accuracy (n_estimators=500, learning rate=0.05): 0.647\n",
      " GBM model accuracy (n_estimators=10, learning rate=0.075): 0.647\n",
      " GBM model accuracy (n_estimators=20, learning rate=0.075): 0.647\n",
      " GBM model accuracy (n_estimators=50, learning rate=0.075): 0.647\n",
      " GBM model accuracy (n_estimators=100, learning rate=0.075): 0.647\n",
      " GBM model accuracy (n_estimators=500, learning rate=0.075): 0.644\n",
      " GBM model accuracy (n_estimators=10, learning rate=0.1): 0.647\n",
      " GBM model accuracy (n_estimators=20, learning rate=0.1): 0.647\n",
      " GBM model accuracy (n_estimators=50, learning rate=0.1): 0.647\n",
      " GBM model accuracy (n_estimators=100, learning rate=0.1): 0.647\n",
      " GBM model accuracy (n_estimators=500, learning rate=0.1): 0.640\n",
      " GBM model accuracy (n_estimators=10, learning rate=0.25): 0.647\n",
      " GBM model accuracy (n_estimators=20, learning rate=0.25): 0.647\n",
      " GBM model accuracy (n_estimators=50, learning rate=0.25): 0.647\n",
      " GBM model accuracy (n_estimators=100, learning rate=0.25): 0.659\n",
      " GBM model accuracy (n_estimators=500, learning rate=0.25): 0.662\n",
      " GBM model accuracy (n_estimators=10, learning rate=0.5): 0.650\n",
      " GBM model accuracy (n_estimators=20, learning rate=0.5): 0.650\n",
      " GBM model accuracy (n_estimators=50, learning rate=0.5): 0.650\n",
      " GBM model accuracy (n_estimators=100, learning rate=0.5): 0.659\n",
      " GBM model accuracy (n_estimators=500, learning rate=0.5): 0.668\n",
      " GBM model accuracy (n_estimators=10, learning rate=0.75): 0.650\n",
      " GBM model accuracy (n_estimators=20, learning rate=0.75): 0.650\n",
      " GBM model accuracy (n_estimators=50, learning rate=0.75): 0.650\n",
      " GBM model accuracy (n_estimators=100, learning rate=0.75): 0.659\n",
      " GBM model accuracy (n_estimators=500, learning rate=0.75): 0.595\n",
      " GBM model accuracy (n_estimators=10, learning rate=1): 0.650\n",
      " GBM model accuracy (n_estimators=20, learning rate=1): 0.650\n",
      " GBM model accuracy (n_estimators=50, learning rate=1): 0.650\n",
      " GBM model accuracy (n_estimators=100, learning rate=1): 0.659\n",
      " GBM model accuracy (n_estimators=500, learning rate=1): 0.592\n"
     ]
    }
   ],
   "source": [
    "from sklearn.ensemble import GradientBoostingClassifier\n",
    "\n",
    "# different learning rate\n",
    "learning_rate = [0.01, 0.03, 0.05, 0.075, 0.1, 0.25, 0.5, 0.75, 1]\n",
    "n_estimators = [10, 20, 50, 100, 500]\n",
    "\n",
    "for rate in learning_rate:\n",
    "    for n in n_estimators:\n",
    "        clf = GradientBoostingClassifier(n_estimators=n, learning_rate=rate, max_features=2, max_depth=2, random_state=0)\n",
    "\n",
    "        # Train the model\n",
    "        clf.fit(X_train, y_train)\n",
    "\n",
    "        # Evaluate the model\n",
    "        y_pred = clf.predict(X_test)\n",
    "        print(f\" GBM model accuracy (n_estimators={n}, learning rate={rate}): {accuracy_score(y_test,y_pred):.3f}\")"
   ]
  },
  {
   "cell_type": "code",
   "execution_count": null,
   "metadata": {},
   "outputs": [],
   "source": [
    "grid_search"
   ]
  }
 ],
 "metadata": {
  "kernelspec": {
   "display_name": "Python 3",
   "language": "python",
   "name": "python3"
  },
  "language_info": {
   "codemirror_mode": {
    "name": "ipython",
    "version": 3
   },
   "file_extension": ".py",
   "mimetype": "text/x-python",
   "name": "python",
   "nbconvert_exporter": "python",
   "pygments_lexer": "ipython3",
   "version": "3.7.4"
  }
 },
 "nbformat": 4,
 "nbformat_minor": 2
}
