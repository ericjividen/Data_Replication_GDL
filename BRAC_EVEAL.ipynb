{
 "cells": [
  {
   "cell_type": "code",
   "execution_count": 4,
   "metadata": {},
   "outputs": [],
   "source": [
    "#coding:utf-8\n",
    "\n",
    "import tensorflow as tf\n",
    "\n",
    "import BRCA_inference\n",
    "import BRCA_batch\n",
    "import BRCA_data\n",
    "import BRCA_train\n",
    "\n",
    "# 数据读取路径\n",
    "Data_Read_PATH = \"C:\\\\Users\\\\Eric\\\\Desktop\\\\Final_project_code_data\\\\10000-1-vcf\\\\10000-1-vcf\\\\part1\\\\test.Matrix\"\n",
    "\n",
    "def evaluate():\n",
    "    with tf.Graph().as_default() as g:\n",
    "        # 测试数据读取\n",
    "        # Read test Data\n",
    "        L = BRCA_data.readCase(Data_Read_PATH)\n",
    "\n",
    "        # 定义输入输出格式\n",
    "\t\t#Define input/output format\n",
    "        x = tf.placeholder(tf.float32, [None, BRCA_inference.INPUT_NODE], name='x-input')\n",
    "        y_ = tf.placeholder(tf.float32, [None, BRCA_inference.OUTPUT_NODE], name='y_input')\n",
    "\n",
    "        #用所有的数据来检测模型\n",
    "\t\t# Use all data to test model\n",
    "        xv, yv = BRCA_batch.all(L)\n",
    "        validate_feed = {x: xv, y_: yv}\n",
    "\n",
    "        # 计算前向传播结果，测试时不关心正则化损失的值，所以这里设为None\n",
    "\t\t# compute forward propagation result, when testing don't care regularization loss, therefore set as none\n",
    "        y = BRCA_inference.inference(x, None)\n",
    "\n",
    "        #计算准确率\n",
    "\t\t# Calculate accuracy\n",
    "        correct_prediction = tf.equal(tf.argmax(y, 1), tf.argmax(y_, 1))\n",
    "        print (tf.cast(correct_prediction, tf.float32))\n",
    "        accuracy = tf.reduce_mean(tf.cast(correct_prediction, tf.float32))\n",
    "\n",
    "        #Create an ExponentialMovingAverage object\n",
    "        variable_averages = tf.train.ExponentialMovingAverage(BRCA_train.MOVING_AVERAGE_DECAY)\n",
    "        #返回变量的名称来保存\n",
    "        variables_to_restore = variable_averages.variables_to_restore()\n",
    "        #存储变量\n",
    "        saver = tf.train.Saver(variables_to_restore)\n",
    "\n",
    "        with tf.Session() as sess:\n",
    "            #找到目录中最新的文件名\n",
    "\t\t\t# search newest file name in directory\n",
    "            ckpt = tf.train.get_checkpoint_state(BRCA_train.MODEL_SAVE_PATH)\n",
    "            if ckpt and ckpt.model_checkpoint_path:\n",
    "                # 加载模型 Load model\n",
    "                saver.restore(sess, ckpt.model_checkpoint_path)\n",
    "\n",
    "                accuracy_score = sess.run(accuracy, feed_dict=validate_feed)\n",
    "                print(\"validation accuracy = %g\" % accuracy_score)\n"
   ]
  },
  {
   "cell_type": "code",
   "execution_count": 6,
   "metadata": {},
   "outputs": [
    {
     "name": "stdout",
     "output_type": "stream",
     "text": [
      "Tensor(\"Cast:0\", shape=(?,), dtype=float32)\n"
     ]
    }
   ],
   "source": [
    "evaluate()\n",
    "\n"
   ]
  },
  {
   "cell_type": "code",
   "execution_count": null,
   "metadata": {},
   "outputs": [],
   "source": []
  }
 ],
 "metadata": {
  "kernelspec": {
   "display_name": "Python 3",
   "language": "python",
   "name": "python3"
  },
  "language_info": {
   "codemirror_mode": {
    "name": "ipython",
    "version": 3
   },
   "file_extension": ".py",
   "mimetype": "text/x-python",
   "name": "python",
   "nbconvert_exporter": "python",
   "pygments_lexer": "ipython3",
   "version": "3.7.4"
  }
 },
 "nbformat": 4,
 "nbformat_minor": 2
}
